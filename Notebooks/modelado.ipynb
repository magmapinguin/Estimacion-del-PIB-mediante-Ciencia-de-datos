{
 "cells": [
  {
   "cell_type": "code",
   "execution_count": 2,
   "id": "expected-eagle",
   "metadata": {},
   "outputs": [
    {
     "data": {
      "text/plain": [
       "device(type='cuda', index=0)"
      ]
     },
     "execution_count": 2,
     "metadata": {},
     "output_type": "execute_result"
    }
   ],
   "source": [
    "# Data Science\n",
    "import pandas as pd\n",
    "import numpy as np\n",
    "from sklearn.decomposition import PCA\n",
    "from sklearn.linear_model import LinearRegression\n",
    "\n",
    "# Visualización\n",
    "import matplotlib.pyplot as plt\n",
    "plt.style.use(\"ggplot\")\n",
    "\n",
    "\n",
    "# PyTorch\n",
    "import torch\n",
    "import torch.nn as nn\n",
    "import torch.nn.functional as F\n",
    "import torch.optim as optim\n",
    "\n",
    "torch.manual_seed(1)\n",
    "\n",
    "dev = torch.device('cuda:0' if torch.cuda.is_available() else 'cpu')\n",
    "dev"
   ]
  },
  {
   "cell_type": "markdown",
   "id": "answering-breathing",
   "metadata": {},
   "source": [
    "# Lectura"
   ]
  },
  {
   "cell_type": "code",
   "execution_count": 3,
   "id": "worth-island",
   "metadata": {},
   "outputs": [
    {
     "data": {
      "text/html": [
       "<div>\n",
       "<style scoped>\n",
       "    .dataframe tbody tr th:only-of-type {\n",
       "        vertical-align: middle;\n",
       "    }\n",
       "\n",
       "    .dataframe tbody tr th {\n",
       "        vertical-align: top;\n",
       "    }\n",
       "\n",
       "    .dataframe thead th {\n",
       "        text-align: right;\n",
       "    }\n",
       "</style>\n",
       "<table border=\"1\" class=\"dataframe\">\n",
       "  <thead>\n",
       "    <tr style=\"text-align: right;\">\n",
       "      <th></th>\n",
       "      <th></th>\n",
       "      <th>Impuestos sobre los productos, netos</th>\n",
       "      <th>Agricultura</th>\n",
       "      <th>Cría y explotación de animales</th>\n",
       "      <th>Aprovechamiento forestal</th>\n",
       "      <th>Pesca, caza y captura</th>\n",
       "      <th>Servicios relacionados con las actividades agropecuarias y forestales</th>\n",
       "      <th>Extracción de petróleo y gas</th>\n",
       "      <th>Minería de minerales metálicos y no metálicos, excepto petróleo y gas</th>\n",
       "      <th>Servicios relacionados con la minería</th>\n",
       "      <th>Generación, transmisión y distribución de energía eléctrica</th>\n",
       "      <th>...</th>\n",
       "      <th>Hospitales</th>\n",
       "      <th>Residencias de asistencia social y para el cuidado de la salud. Otros servicios de asistencia social</th>\n",
       "      <th>Servicios artísticos, culturales y deportivos, y otros servicios relacionados</th>\n",
       "      <th>Museos, sitios históricos, zoológicos y similares. Servicios de entretenimiento en instalaciones recreativas y otros servicios recreativos</th>\n",
       "      <th>Servicios de alojamiento temporal</th>\n",
       "      <th>Servicios de preparación de alimentos y bebidas</th>\n",
       "      <th>Servicios de reparación y mantenimiento</th>\n",
       "      <th>Servicios personales</th>\n",
       "      <th>Asociaciones y organizaciones. Hogares con empleados domésticos</th>\n",
       "      <th>Actividades legislativas, gubernamentales, de impartición de justicia y de organismos internacionales y extraterritoriales</th>\n",
       "    </tr>\n",
       "    <tr>\n",
       "      <th>Año</th>\n",
       "      <th>Trimestre</th>\n",
       "      <th></th>\n",
       "      <th></th>\n",
       "      <th></th>\n",
       "      <th></th>\n",
       "      <th></th>\n",
       "      <th></th>\n",
       "      <th></th>\n",
       "      <th></th>\n",
       "      <th></th>\n",
       "      <th></th>\n",
       "      <th></th>\n",
       "      <th></th>\n",
       "      <th></th>\n",
       "      <th></th>\n",
       "      <th></th>\n",
       "      <th></th>\n",
       "      <th></th>\n",
       "      <th></th>\n",
       "      <th></th>\n",
       "      <th></th>\n",
       "      <th></th>\n",
       "    </tr>\n",
       "  </thead>\n",
       "  <tbody>\n",
       "    <tr>\n",
       "      <th rowspan=\"4\" valign=\"top\">1993</th>\n",
       "      <th>T1</th>\n",
       "      <td>388594.0</td>\n",
       "      <td>216828.0</td>\n",
       "      <td>111883.0</td>\n",
       "      <td>17803.0</td>\n",
       "      <td>9059.0</td>\n",
       "      <td>649.0</td>\n",
       "      <td>865047.0</td>\n",
       "      <td>85393.0</td>\n",
       "      <td>20400.0</td>\n",
       "      <td>62672.0</td>\n",
       "      <td>...</td>\n",
       "      <td>104804.0</td>\n",
       "      <td>11298.0</td>\n",
       "      <td>20840.0</td>\n",
       "      <td>47306.0</td>\n",
       "      <td>107572.0</td>\n",
       "      <td>199712.0</td>\n",
       "      <td>54022.0</td>\n",
       "      <td>106013.0</td>\n",
       "      <td>86280.0</td>\n",
       "      <td>570255.0</td>\n",
       "    </tr>\n",
       "    <tr>\n",
       "      <th>T2</th>\n",
       "      <td>388084.0</td>\n",
       "      <td>209611.0</td>\n",
       "      <td>126136.0</td>\n",
       "      <td>17044.0</td>\n",
       "      <td>10803.0</td>\n",
       "      <td>498.0</td>\n",
       "      <td>895218.0</td>\n",
       "      <td>84089.0</td>\n",
       "      <td>17743.0</td>\n",
       "      <td>66521.0</td>\n",
       "      <td>...</td>\n",
       "      <td>108216.0</td>\n",
       "      <td>11265.0</td>\n",
       "      <td>18608.0</td>\n",
       "      <td>46292.0</td>\n",
       "      <td>91452.0</td>\n",
       "      <td>243747.0</td>\n",
       "      <td>49428.0</td>\n",
       "      <td>109694.0</td>\n",
       "      <td>85388.0</td>\n",
       "      <td>567517.0</td>\n",
       "    </tr>\n",
       "    <tr>\n",
       "      <th>T3</th>\n",
       "      <td>379390.0</td>\n",
       "      <td>179794.0</td>\n",
       "      <td>146416.0</td>\n",
       "      <td>16858.0</td>\n",
       "      <td>8911.0</td>\n",
       "      <td>582.0</td>\n",
       "      <td>901125.0</td>\n",
       "      <td>87084.0</td>\n",
       "      <td>16250.0</td>\n",
       "      <td>70185.0</td>\n",
       "      <td>...</td>\n",
       "      <td>108421.0</td>\n",
       "      <td>11315.0</td>\n",
       "      <td>17537.0</td>\n",
       "      <td>43866.0</td>\n",
       "      <td>93978.0</td>\n",
       "      <td>247239.0</td>\n",
       "      <td>45515.0</td>\n",
       "      <td>101512.0</td>\n",
       "      <td>85966.0</td>\n",
       "      <td>564583.0</td>\n",
       "    </tr>\n",
       "    <tr>\n",
       "      <th>T4</th>\n",
       "      <td>422664.0</td>\n",
       "      <td>245272.0</td>\n",
       "      <td>133375.0</td>\n",
       "      <td>16537.0</td>\n",
       "      <td>10099.0</td>\n",
       "      <td>730.0</td>\n",
       "      <td>923834.0</td>\n",
       "      <td>92063.0</td>\n",
       "      <td>17810.0</td>\n",
       "      <td>66255.0</td>\n",
       "      <td>...</td>\n",
       "      <td>111014.0</td>\n",
       "      <td>11263.0</td>\n",
       "      <td>19574.0</td>\n",
       "      <td>42399.0</td>\n",
       "      <td>85576.0</td>\n",
       "      <td>217506.0</td>\n",
       "      <td>54444.0</td>\n",
       "      <td>106026.0</td>\n",
       "      <td>88529.0</td>\n",
       "      <td>562378.0</td>\n",
       "    </tr>\n",
       "    <tr>\n",
       "      <th>1994</th>\n",
       "      <th>T1</th>\n",
       "      <td>409250.0</td>\n",
       "      <td>212307.0</td>\n",
       "      <td>110839.0</td>\n",
       "      <td>16421.0</td>\n",
       "      <td>9077.0</td>\n",
       "      <td>890.0</td>\n",
       "      <td>895605.0</td>\n",
       "      <td>86601.0</td>\n",
       "      <td>20359.0</td>\n",
       "      <td>63016.0</td>\n",
       "      <td>...</td>\n",
       "      <td>111354.0</td>\n",
       "      <td>10957.0</td>\n",
       "      <td>21939.0</td>\n",
       "      <td>50283.0</td>\n",
       "      <td>112548.0</td>\n",
       "      <td>221905.0</td>\n",
       "      <td>54191.0</td>\n",
       "      <td>101976.0</td>\n",
       "      <td>85423.0</td>\n",
       "      <td>577482.0</td>\n",
       "    </tr>\n",
       "    <tr>\n",
       "      <th>...</th>\n",
       "      <th>...</th>\n",
       "      <td>...</td>\n",
       "      <td>...</td>\n",
       "      <td>...</td>\n",
       "      <td>...</td>\n",
       "      <td>...</td>\n",
       "      <td>...</td>\n",
       "      <td>...</td>\n",
       "      <td>...</td>\n",
       "      <td>...</td>\n",
       "      <td>...</td>\n",
       "      <td>...</td>\n",
       "      <td>...</td>\n",
       "      <td>...</td>\n",
       "      <td>...</td>\n",
       "      <td>...</td>\n",
       "      <td>...</td>\n",
       "      <td>...</td>\n",
       "      <td>...</td>\n",
       "      <td>...</td>\n",
       "      <td>...</td>\n",
       "      <td>...</td>\n",
       "    </tr>\n",
       "    <tr>\n",
       "      <th rowspan=\"2\" valign=\"top\">2019</th>\n",
       "      <th>T3</th>\n",
       "      <td>822448.0</td>\n",
       "      <td>269969.0</td>\n",
       "      <td>187821.0</td>\n",
       "      <td>19273.0</td>\n",
       "      <td>15774.0</td>\n",
       "      <td>1439.0</td>\n",
       "      <td>607141.0</td>\n",
       "      <td>177887.0</td>\n",
       "      <td>81688.0</td>\n",
       "      <td>250860.0</td>\n",
       "      <td>...</td>\n",
       "      <td>207027.0</td>\n",
       "      <td>11044.0</td>\n",
       "      <td>42770.0</td>\n",
       "      <td>38909.0</td>\n",
       "      <td>216346.0</td>\n",
       "      <td>193311.0</td>\n",
       "      <td>83199.0</td>\n",
       "      <td>157023.0</td>\n",
       "      <td>126548.0</td>\n",
       "      <td>686136.0</td>\n",
       "    </tr>\n",
       "    <tr>\n",
       "      <th>T4</th>\n",
       "      <td>849938.0</td>\n",
       "      <td>454425.0</td>\n",
       "      <td>196956.0</td>\n",
       "      <td>20543.0</td>\n",
       "      <td>17219.0</td>\n",
       "      <td>4584.0</td>\n",
       "      <td>608671.0</td>\n",
       "      <td>179807.0</td>\n",
       "      <td>68894.0</td>\n",
       "      <td>226648.0</td>\n",
       "      <td>...</td>\n",
       "      <td>206384.0</td>\n",
       "      <td>11396.0</td>\n",
       "      <td>37399.0</td>\n",
       "      <td>37603.0</td>\n",
       "      <td>216254.0</td>\n",
       "      <td>190393.0</td>\n",
       "      <td>84123.0</td>\n",
       "      <td>154505.0</td>\n",
       "      <td>125487.0</td>\n",
       "      <td>729359.0</td>\n",
       "    </tr>\n",
       "    <tr>\n",
       "      <th rowspan=\"3\" valign=\"top\">2020</th>\n",
       "      <th>T1</th>\n",
       "      <td>774944.0</td>\n",
       "      <td>355884.0</td>\n",
       "      <td>174004.0</td>\n",
       "      <td>18816.0</td>\n",
       "      <td>12756.0</td>\n",
       "      <td>1653.0</td>\n",
       "      <td>616916.0</td>\n",
       "      <td>177053.0</td>\n",
       "      <td>116122.0</td>\n",
       "      <td>204077.0</td>\n",
       "      <td>...</td>\n",
       "      <td>203693.0</td>\n",
       "      <td>11621.0</td>\n",
       "      <td>30077.0</td>\n",
       "      <td>32282.0</td>\n",
       "      <td>191715.0</td>\n",
       "      <td>180051.0</td>\n",
       "      <td>72040.0</td>\n",
       "      <td>152443.0</td>\n",
       "      <td>128941.0</td>\n",
       "      <td>747389.0</td>\n",
       "    </tr>\n",
       "    <tr>\n",
       "      <th>T2</th>\n",
       "      <td>627575.0</td>\n",
       "      <td>388108.0</td>\n",
       "      <td>180821.0</td>\n",
       "      <td>15257.0</td>\n",
       "      <td>14752.0</td>\n",
       "      <td>1214.0</td>\n",
       "      <td>590896.0</td>\n",
       "      <td>136134.0</td>\n",
       "      <td>77152.0</td>\n",
       "      <td>204047.0</td>\n",
       "      <td>...</td>\n",
       "      <td>220948.0</td>\n",
       "      <td>5853.0</td>\n",
       "      <td>13533.0</td>\n",
       "      <td>3501.0</td>\n",
       "      <td>18312.0</td>\n",
       "      <td>104661.0</td>\n",
       "      <td>54262.0</td>\n",
       "      <td>110664.0</td>\n",
       "      <td>107915.0</td>\n",
       "      <td>731696.0</td>\n",
       "    </tr>\n",
       "    <tr>\n",
       "      <th>T3</th>\n",
       "      <td>713290.0</td>\n",
       "      <td>305998.0</td>\n",
       "      <td>193131.0</td>\n",
       "      <td>17010.0</td>\n",
       "      <td>14996.0</td>\n",
       "      <td>1056.0</td>\n",
       "      <td>591111.0</td>\n",
       "      <td>175625.0</td>\n",
       "      <td>71045.0</td>\n",
       "      <td>233329.0</td>\n",
       "      <td>...</td>\n",
       "      <td>229139.0</td>\n",
       "      <td>5521.0</td>\n",
       "      <td>18645.0</td>\n",
       "      <td>10034.0</td>\n",
       "      <td>72953.0</td>\n",
       "      <td>117037.0</td>\n",
       "      <td>72297.0</td>\n",
       "      <td>127278.0</td>\n",
       "      <td>110919.0</td>\n",
       "      <td>707213.0</td>\n",
       "    </tr>\n",
       "  </tbody>\n",
       "</table>\n",
       "<p>111 rows × 135 columns</p>\n",
       "</div>"
      ],
      "text/plain": [
       "                Impuestos sobre los productos, netos  Agricultura  \\\n",
       "Año  Trimestre                                                      \n",
       "1993 T1                                     388594.0     216828.0   \n",
       "     T2                                     388084.0     209611.0   \n",
       "     T3                                     379390.0     179794.0   \n",
       "     T4                                     422664.0     245272.0   \n",
       "1994 T1                                     409250.0     212307.0   \n",
       "...                                              ...          ...   \n",
       "2019 T3                                     822448.0     269969.0   \n",
       "     T4                                     849938.0     454425.0   \n",
       "2020 T1                                     774944.0     355884.0   \n",
       "     T2                                     627575.0     388108.0   \n",
       "     T3                                     713290.0     305998.0   \n",
       "\n",
       "                Cría y explotación de animales  Aprovechamiento forestal  \\\n",
       "Año  Trimestre                                                             \n",
       "1993 T1                               111883.0                   17803.0   \n",
       "     T2                               126136.0                   17044.0   \n",
       "     T3                               146416.0                   16858.0   \n",
       "     T4                               133375.0                   16537.0   \n",
       "1994 T1                               110839.0                   16421.0   \n",
       "...                                        ...                       ...   \n",
       "2019 T3                               187821.0                   19273.0   \n",
       "     T4                               196956.0                   20543.0   \n",
       "2020 T1                               174004.0                   18816.0   \n",
       "     T2                               180821.0                   15257.0   \n",
       "     T3                               193131.0                   17010.0   \n",
       "\n",
       "                Pesca, caza y captura  \\\n",
       "Año  Trimestre                          \n",
       "1993 T1                        9059.0   \n",
       "     T2                       10803.0   \n",
       "     T3                        8911.0   \n",
       "     T4                       10099.0   \n",
       "1994 T1                        9077.0   \n",
       "...                               ...   \n",
       "2019 T3                       15774.0   \n",
       "     T4                       17219.0   \n",
       "2020 T1                       12756.0   \n",
       "     T2                       14752.0   \n",
       "     T3                       14996.0   \n",
       "\n",
       "                Servicios relacionados con las actividades agropecuarias y forestales  \\\n",
       "Año  Trimestre                                                                          \n",
       "1993 T1                                                     649.0                       \n",
       "     T2                                                     498.0                       \n",
       "     T3                                                     582.0                       \n",
       "     T4                                                     730.0                       \n",
       "1994 T1                                                     890.0                       \n",
       "...                                                           ...                       \n",
       "2019 T3                                                    1439.0                       \n",
       "     T4                                                    4584.0                       \n",
       "2020 T1                                                    1653.0                       \n",
       "     T2                                                    1214.0                       \n",
       "     T3                                                    1056.0                       \n",
       "\n",
       "                Extracción de petróleo y gas  \\\n",
       "Año  Trimestre                                 \n",
       "1993 T1                             865047.0   \n",
       "     T2                             895218.0   \n",
       "     T3                             901125.0   \n",
       "     T4                             923834.0   \n",
       "1994 T1                             895605.0   \n",
       "...                                      ...   \n",
       "2019 T3                             607141.0   \n",
       "     T4                             608671.0   \n",
       "2020 T1                             616916.0   \n",
       "     T2                             590896.0   \n",
       "     T3                             591111.0   \n",
       "\n",
       "                Minería de minerales metálicos y no metálicos, excepto petróleo y gas  \\\n",
       "Año  Trimestre                                                                          \n",
       "1993 T1                                                   85393.0                       \n",
       "     T2                                                   84089.0                       \n",
       "     T3                                                   87084.0                       \n",
       "     T4                                                   92063.0                       \n",
       "1994 T1                                                   86601.0                       \n",
       "...                                                           ...                       \n",
       "2019 T3                                                  177887.0                       \n",
       "     T4                                                  179807.0                       \n",
       "2020 T1                                                  177053.0                       \n",
       "     T2                                                  136134.0                       \n",
       "     T3                                                  175625.0                       \n",
       "\n",
       "                Servicios relacionados con la minería  \\\n",
       "Año  Trimestre                                          \n",
       "1993 T1                                       20400.0   \n",
       "     T2                                       17743.0   \n",
       "     T3                                       16250.0   \n",
       "     T4                                       17810.0   \n",
       "1994 T1                                       20359.0   \n",
       "...                                               ...   \n",
       "2019 T3                                       81688.0   \n",
       "     T4                                       68894.0   \n",
       "2020 T1                                      116122.0   \n",
       "     T2                                       77152.0   \n",
       "     T3                                       71045.0   \n",
       "\n",
       "                Generación, transmisión y distribución de energía eléctrica  \\\n",
       "Año  Trimestre                                                                \n",
       "1993 T1                                                   62672.0             \n",
       "     T2                                                   66521.0             \n",
       "     T3                                                   70185.0             \n",
       "     T4                                                   66255.0             \n",
       "1994 T1                                                   63016.0             \n",
       "...                                                           ...             \n",
       "2019 T3                                                  250860.0             \n",
       "     T4                                                  226648.0             \n",
       "2020 T1                                                  204077.0             \n",
       "     T2                                                  204047.0             \n",
       "     T3                                                  233329.0             \n",
       "\n",
       "                ...  Hospitales  \\\n",
       "Año  Trimestre  ...               \n",
       "1993 T1         ...    104804.0   \n",
       "     T2         ...    108216.0   \n",
       "     T3         ...    108421.0   \n",
       "     T4         ...    111014.0   \n",
       "1994 T1         ...    111354.0   \n",
       "...             ...         ...   \n",
       "2019 T3         ...    207027.0   \n",
       "     T4         ...    206384.0   \n",
       "2020 T1         ...    203693.0   \n",
       "     T2         ...    220948.0   \n",
       "     T3         ...    229139.0   \n",
       "\n",
       "                Residencias de asistencia social y para el cuidado de la salud. Otros servicios de asistencia social  \\\n",
       "Año  Trimestre                                                                                                         \n",
       "1993 T1                                                   11298.0                                                      \n",
       "     T2                                                   11265.0                                                      \n",
       "     T3                                                   11315.0                                                      \n",
       "     T4                                                   11263.0                                                      \n",
       "1994 T1                                                   10957.0                                                      \n",
       "...                                                           ...                                                      \n",
       "2019 T3                                                   11044.0                                                      \n",
       "     T4                                                   11396.0                                                      \n",
       "2020 T1                                                   11621.0                                                      \n",
       "     T2                                                    5853.0                                                      \n",
       "     T3                                                    5521.0                                                      \n",
       "\n",
       "                Servicios artísticos, culturales y deportivos, y otros servicios relacionados  \\\n",
       "Año  Trimestre                                                                                  \n",
       "1993 T1                                                   20840.0                               \n",
       "     T2                                                   18608.0                               \n",
       "     T3                                                   17537.0                               \n",
       "     T4                                                   19574.0                               \n",
       "1994 T1                                                   21939.0                               \n",
       "...                                                           ...                               \n",
       "2019 T3                                                   42770.0                               \n",
       "     T4                                                   37399.0                               \n",
       "2020 T1                                                   30077.0                               \n",
       "     T2                                                   13533.0                               \n",
       "     T3                                                   18645.0                               \n",
       "\n",
       "                Museos, sitios históricos, zoológicos y similares. Servicios de entretenimiento en instalaciones recreativas y otros servicios recreativos  \\\n",
       "Año  Trimestre                                                                                                                                               \n",
       "1993 T1                                                   47306.0                                                                                            \n",
       "     T2                                                   46292.0                                                                                            \n",
       "     T3                                                   43866.0                                                                                            \n",
       "     T4                                                   42399.0                                                                                            \n",
       "1994 T1                                                   50283.0                                                                                            \n",
       "...                                                           ...                                                                                            \n",
       "2019 T3                                                   38909.0                                                                                            \n",
       "     T4                                                   37603.0                                                                                            \n",
       "2020 T1                                                   32282.0                                                                                            \n",
       "     T2                                                    3501.0                                                                                            \n",
       "     T3                                                   10034.0                                                                                            \n",
       "\n",
       "                Servicios de alojamiento temporal  \\\n",
       "Año  Trimestre                                      \n",
       "1993 T1                                  107572.0   \n",
       "     T2                                   91452.0   \n",
       "     T3                                   93978.0   \n",
       "     T4                                   85576.0   \n",
       "1994 T1                                  112548.0   \n",
       "...                                           ...   \n",
       "2019 T3                                  216346.0   \n",
       "     T4                                  216254.0   \n",
       "2020 T1                                  191715.0   \n",
       "     T2                                   18312.0   \n",
       "     T3                                   72953.0   \n",
       "\n",
       "                Servicios de preparación de alimentos y bebidas  \\\n",
       "Año  Trimestre                                                    \n",
       "1993 T1                                                199712.0   \n",
       "     T2                                                243747.0   \n",
       "     T3                                                247239.0   \n",
       "     T4                                                217506.0   \n",
       "1994 T1                                                221905.0   \n",
       "...                                                         ...   \n",
       "2019 T3                                                193311.0   \n",
       "     T4                                                190393.0   \n",
       "2020 T1                                                180051.0   \n",
       "     T2                                                104661.0   \n",
       "     T3                                                117037.0   \n",
       "\n",
       "                Servicios de reparación y mantenimiento  Servicios personales  \\\n",
       "Año  Trimestre                                                                  \n",
       "1993 T1                                         54022.0              106013.0   \n",
       "     T2                                         49428.0              109694.0   \n",
       "     T3                                         45515.0              101512.0   \n",
       "     T4                                         54444.0              106026.0   \n",
       "1994 T1                                         54191.0              101976.0   \n",
       "...                                                 ...                   ...   \n",
       "2019 T3                                         83199.0              157023.0   \n",
       "     T4                                         84123.0              154505.0   \n",
       "2020 T1                                         72040.0              152443.0   \n",
       "     T2                                         54262.0              110664.0   \n",
       "     T3                                         72297.0              127278.0   \n",
       "\n",
       "                Asociaciones y organizaciones. Hogares con empleados domésticos  \\\n",
       "Año  Trimestre                                                                    \n",
       "1993 T1                                                   86280.0                 \n",
       "     T2                                                   85388.0                 \n",
       "     T3                                                   85966.0                 \n",
       "     T4                                                   88529.0                 \n",
       "1994 T1                                                   85423.0                 \n",
       "...                                                           ...                 \n",
       "2019 T3                                                  126548.0                 \n",
       "     T4                                                  125487.0                 \n",
       "2020 T1                                                  128941.0                 \n",
       "     T2                                                  107915.0                 \n",
       "     T3                                                  110919.0                 \n",
       "\n",
       "                Actividades legislativas, gubernamentales, de impartición de justicia y de organismos internacionales y extraterritoriales  \n",
       "Año  Trimestre                                                                                                                              \n",
       "1993 T1                                                  570255.0                                                                           \n",
       "     T2                                                  567517.0                                                                           \n",
       "     T3                                                  564583.0                                                                           \n",
       "     T4                                                  562378.0                                                                           \n",
       "1994 T1                                                  577482.0                                                                           \n",
       "...                                                           ...                                                                           \n",
       "2019 T3                                                  686136.0                                                                           \n",
       "     T4                                                  729359.0                                                                           \n",
       "2020 T1                                                  747389.0                                                                           \n",
       "     T2                                                  731696.0                                                                           \n",
       "     T3                                                  707213.0                                                                           \n",
       "\n",
       "[111 rows x 135 columns]"
      ]
     },
     "execution_count": 3,
     "metadata": {},
     "output_type": "execute_result"
    }
   ],
   "source": [
    "df = pd.read_csv(\"../Datos/trimestrales.csv\", index_col=[0,1])\n",
    "df"
   ]
  },
  {
   "cell_type": "code",
   "execution_count": 4,
   "id": "treated-gross",
   "metadata": {},
   "outputs": [
    {
     "data": {
      "text/plain": [
       "Año   Trimestre\n",
       "1993  T1           10008894.0\n",
       "      T2           10171035.0\n",
       "      T3           10066263.0\n",
       "      T4           10416101.0\n",
       "1994  T1           10343396.0\n",
       "                      ...    \n",
       "2019  T3           18398053.0\n",
       "      T4           18869807.0\n",
       "2020  T1           18023219.0\n",
       "      T2           15042859.0\n",
       "      T3           16822015.0\n",
       "Length: 111, dtype: float64"
      ]
     },
     "execution_count": 4,
     "metadata": {},
     "output_type": "execute_result"
    }
   ],
   "source": [
    "totales = df.sum(axis=1)\n",
    "totales"
   ]
  },
  {
   "cell_type": "markdown",
   "id": "minute-bosnia",
   "metadata": {},
   "source": [
    "# División de datos"
   ]
  },
  {
   "cell_type": "code",
   "execution_count": 5,
   "id": "functional-benefit",
   "metadata": {},
   "outputs": [],
   "source": [
    "def dividir_series(serie_x, serie_y, test_size):\n",
    "    n_obs = serie_x.shape[0]\n",
    "    n = int(n_obs*(1-test_size))\n",
    "    return serie_x[:n], serie_x[n:], serie_y[:n], serie_y[n:]"
   ]
  },
  {
   "cell_type": "code",
   "execution_count": 6,
   "id": "earned-charger",
   "metadata": {},
   "outputs": [],
   "source": [
    "X_train, X_test, y_train, y_test = dividir_series(df.values, totales.values, 0.1)"
   ]
  },
  {
   "cell_type": "markdown",
   "id": "alike-manchester",
   "metadata": {},
   "source": [
    "# Reducción"
   ]
  },
  {
   "cell_type": "code",
   "execution_count": 49,
   "id": "expired-playing",
   "metadata": {},
   "outputs": [
    {
     "data": {
      "text/plain": [
       "((99, 4), (12, 4))"
      ]
     },
     "execution_count": 49,
     "metadata": {},
     "output_type": "execute_result"
    }
   ],
   "source": [
    "n_components = 4\n",
    "pca = PCA(n_components=n_components)\n",
    "X_train_r = pca.fit_transform(X_train)\n",
    "X_test_r = pca.transform(X_test)\n",
    "X_train_r.shape, X_test_r.shape"
   ]
  },
  {
   "cell_type": "markdown",
   "id": "signal-telling",
   "metadata": {},
   "source": [
    "# Preparación"
   ]
  },
  {
   "cell_type": "code",
   "execution_count": 8,
   "id": "worst-scoop",
   "metadata": {},
   "outputs": [],
   "source": [
    "def preparar_entrada(X, y, k):\n",
    "    end = X.shape[0] - k + 1\n",
    "    Xl = []\n",
    "    yl = []\n",
    "    for i in range(end-1):\n",
    "        Xt = X[i:i+k,:]\n",
    "        yt = y[i+k]\n",
    "        Xl.append(Xt.ravel())\n",
    "        yl.append(yt)\n",
    "    \n",
    "    X_new = torch.Tensor(Xl).to(dev)\n",
    "    y_new = torch.Tensor(yl).to(dev)\n",
    "    return X_new, y_new"
   ]
  },
  {
   "cell_type": "code",
   "execution_count": 9,
   "id": "expanded-glance",
   "metadata": {},
   "outputs": [],
   "source": [
    "t_ventana = 10\n",
    "X_train_t, y_train_t = preparar_entrada(X_train_r, y_train, t_ventana)\n",
    "X_test_t, y_test_t = preparar_entrada(X_test_r, y_test, t_ventana)"
   ]
  },
  {
   "cell_type": "code",
   "execution_count": 47,
   "id": "ordered-fortune",
   "metadata": {},
   "outputs": [
    {
     "data": {
      "text/plain": [
       "(99, 135)"
      ]
     },
     "execution_count": 47,
     "metadata": {},
     "output_type": "execute_result"
    }
   ],
   "source": [
    "X_train.shape"
   ]
  },
  {
   "cell_type": "code",
   "execution_count": 46,
   "id": "activated-james",
   "metadata": {},
   "outputs": [
    {
     "data": {
      "text/plain": [
       "torch.Size([89, 40])"
      ]
     },
     "execution_count": 46,
     "metadata": {},
     "output_type": "execute_result"
    }
   ],
   "source": [
    "X_train_t.shape"
   ]
  },
  {
   "cell_type": "code",
   "execution_count": 45,
   "id": "classified-excerpt",
   "metadata": {},
   "outputs": [
    {
     "data": {
      "text/plain": [
       "torch.Size([2, 40])"
      ]
     },
     "execution_count": 45,
     "metadata": {},
     "output_type": "execute_result"
    }
   ],
   "source": [
    "X_test_t.shape"
   ]
  },
  {
   "cell_type": "code",
   "execution_count": 12,
   "id": "conservative-stanley",
   "metadata": {},
   "outputs": [],
   "source": [
    "def calcular_r2(y_pred, y_true):\n",
    "    ss_res = ((y_true - y_pred)**2).sum()\n",
    "    y_mean = y_true.mean()\n",
    "    ss_total = ((y_true - y_mean)**2).sum()\n",
    "    \n",
    "    return 1 - ss_res/ss_total"
   ]
  },
  {
   "cell_type": "markdown",
   "id": "lyric-gnome",
   "metadata": {},
   "source": [
    "# Regresión lineal"
   ]
  },
  {
   "cell_type": "code",
   "execution_count": 50,
   "id": "controlling-intermediate",
   "metadata": {},
   "outputs": [
    {
     "ename": "RuntimeError",
     "evalue": "CUDA error: unspecified launch failure",
     "output_type": "error",
     "traceback": [
      "\u001b[0;31m---------------------------------------------------------------------------\u001b[0m",
      "\u001b[0;31mRuntimeError\u001b[0m                              Traceback (most recent call last)",
      "\u001b[0;32m~/miniconda3/envs/finanzas/lib/python3.8/site-packages/IPython/core/formatters.py\u001b[0m in \u001b[0;36m__call__\u001b[0;34m(self, obj)\u001b[0m\n\u001b[1;32m    700\u001b[0m                 \u001b[0mtype_pprinters\u001b[0m\u001b[0;34m=\u001b[0m\u001b[0mself\u001b[0m\u001b[0;34m.\u001b[0m\u001b[0mtype_printers\u001b[0m\u001b[0;34m,\u001b[0m\u001b[0;34m\u001b[0m\u001b[0;34m\u001b[0m\u001b[0m\n\u001b[1;32m    701\u001b[0m                 deferred_pprinters=self.deferred_printers)\n\u001b[0;32m--> 702\u001b[0;31m             \u001b[0mprinter\u001b[0m\u001b[0;34m.\u001b[0m\u001b[0mpretty\u001b[0m\u001b[0;34m(\u001b[0m\u001b[0mobj\u001b[0m\u001b[0;34m)\u001b[0m\u001b[0;34m\u001b[0m\u001b[0;34m\u001b[0m\u001b[0m\n\u001b[0m\u001b[1;32m    703\u001b[0m             \u001b[0mprinter\u001b[0m\u001b[0;34m.\u001b[0m\u001b[0mflush\u001b[0m\u001b[0;34m(\u001b[0m\u001b[0;34m)\u001b[0m\u001b[0;34m\u001b[0m\u001b[0;34m\u001b[0m\u001b[0m\n\u001b[1;32m    704\u001b[0m             \u001b[0;32mreturn\u001b[0m \u001b[0mstream\u001b[0m\u001b[0;34m.\u001b[0m\u001b[0mgetvalue\u001b[0m\u001b[0;34m(\u001b[0m\u001b[0;34m)\u001b[0m\u001b[0;34m\u001b[0m\u001b[0;34m\u001b[0m\u001b[0m\n",
      "\u001b[0;32m~/miniconda3/envs/finanzas/lib/python3.8/site-packages/IPython/lib/pretty.py\u001b[0m in \u001b[0;36mpretty\u001b[0;34m(self, obj)\u001b[0m\n\u001b[1;32m    392\u001b[0m                         \u001b[0;32mif\u001b[0m \u001b[0mcls\u001b[0m \u001b[0;32mis\u001b[0m \u001b[0;32mnot\u001b[0m \u001b[0mobject\u001b[0m\u001b[0;31m \u001b[0m\u001b[0;31m\\\u001b[0m\u001b[0;34m\u001b[0m\u001b[0;34m\u001b[0m\u001b[0m\n\u001b[1;32m    393\u001b[0m                                 \u001b[0;32mand\u001b[0m \u001b[0mcallable\u001b[0m\u001b[0;34m(\u001b[0m\u001b[0mcls\u001b[0m\u001b[0;34m.\u001b[0m\u001b[0m__dict__\u001b[0m\u001b[0;34m.\u001b[0m\u001b[0mget\u001b[0m\u001b[0;34m(\u001b[0m\u001b[0;34m'__repr__'\u001b[0m\u001b[0;34m)\u001b[0m\u001b[0;34m)\u001b[0m\u001b[0;34m:\u001b[0m\u001b[0;34m\u001b[0m\u001b[0;34m\u001b[0m\u001b[0m\n\u001b[0;32m--> 394\u001b[0;31m                             \u001b[0;32mreturn\u001b[0m \u001b[0m_repr_pprint\u001b[0m\u001b[0;34m(\u001b[0m\u001b[0mobj\u001b[0m\u001b[0;34m,\u001b[0m \u001b[0mself\u001b[0m\u001b[0;34m,\u001b[0m \u001b[0mcycle\u001b[0m\u001b[0;34m)\u001b[0m\u001b[0;34m\u001b[0m\u001b[0;34m\u001b[0m\u001b[0m\n\u001b[0m\u001b[1;32m    395\u001b[0m \u001b[0;34m\u001b[0m\u001b[0m\n\u001b[1;32m    396\u001b[0m             \u001b[0;32mreturn\u001b[0m \u001b[0m_default_pprint\u001b[0m\u001b[0;34m(\u001b[0m\u001b[0mobj\u001b[0m\u001b[0;34m,\u001b[0m \u001b[0mself\u001b[0m\u001b[0;34m,\u001b[0m \u001b[0mcycle\u001b[0m\u001b[0;34m)\u001b[0m\u001b[0;34m\u001b[0m\u001b[0;34m\u001b[0m\u001b[0m\n",
      "\u001b[0;32m~/miniconda3/envs/finanzas/lib/python3.8/site-packages/IPython/lib/pretty.py\u001b[0m in \u001b[0;36m_repr_pprint\u001b[0;34m(obj, p, cycle)\u001b[0m\n\u001b[1;32m    698\u001b[0m     \u001b[0;34m\"\"\"A pprint that just redirects to the normal repr function.\"\"\"\u001b[0m\u001b[0;34m\u001b[0m\u001b[0;34m\u001b[0m\u001b[0m\n\u001b[1;32m    699\u001b[0m     \u001b[0;31m# Find newlines and replace them with p.break_()\u001b[0m\u001b[0;34m\u001b[0m\u001b[0;34m\u001b[0m\u001b[0;34m\u001b[0m\u001b[0m\n\u001b[0;32m--> 700\u001b[0;31m     \u001b[0moutput\u001b[0m \u001b[0;34m=\u001b[0m \u001b[0mrepr\u001b[0m\u001b[0;34m(\u001b[0m\u001b[0mobj\u001b[0m\u001b[0;34m)\u001b[0m\u001b[0;34m\u001b[0m\u001b[0;34m\u001b[0m\u001b[0m\n\u001b[0m\u001b[1;32m    701\u001b[0m     \u001b[0mlines\u001b[0m \u001b[0;34m=\u001b[0m \u001b[0moutput\u001b[0m\u001b[0;34m.\u001b[0m\u001b[0msplitlines\u001b[0m\u001b[0;34m(\u001b[0m\u001b[0;34m)\u001b[0m\u001b[0;34m\u001b[0m\u001b[0;34m\u001b[0m\u001b[0m\n\u001b[1;32m    702\u001b[0m     \u001b[0;32mwith\u001b[0m \u001b[0mp\u001b[0m\u001b[0;34m.\u001b[0m\u001b[0mgroup\u001b[0m\u001b[0;34m(\u001b[0m\u001b[0;34m)\u001b[0m\u001b[0;34m:\u001b[0m\u001b[0;34m\u001b[0m\u001b[0;34m\u001b[0m\u001b[0m\n",
      "\u001b[0;32m~/miniconda3/envs/finanzas/lib/python3.8/site-packages/torch/tensor.py\u001b[0m in \u001b[0;36m__repr__\u001b[0;34m(self)\u001b[0m\n\u001b[1;32m    177\u001b[0m             \u001b[0;32mreturn\u001b[0m \u001b[0mhandle_torch_function\u001b[0m\u001b[0;34m(\u001b[0m\u001b[0mTensor\u001b[0m\u001b[0;34m.\u001b[0m\u001b[0m__repr__\u001b[0m\u001b[0;34m,\u001b[0m \u001b[0mrelevant_args\u001b[0m\u001b[0;34m,\u001b[0m \u001b[0mself\u001b[0m\u001b[0;34m)\u001b[0m\u001b[0;34m\u001b[0m\u001b[0;34m\u001b[0m\u001b[0m\n\u001b[1;32m    178\u001b[0m         \u001b[0;31m# All strings are unicode in Python 3.\u001b[0m\u001b[0;34m\u001b[0m\u001b[0;34m\u001b[0m\u001b[0;34m\u001b[0m\u001b[0m\n\u001b[0;32m--> 179\u001b[0;31m         \u001b[0;32mreturn\u001b[0m \u001b[0mtorch\u001b[0m\u001b[0;34m.\u001b[0m\u001b[0m_tensor_str\u001b[0m\u001b[0;34m.\u001b[0m\u001b[0m_str\u001b[0m\u001b[0;34m(\u001b[0m\u001b[0mself\u001b[0m\u001b[0;34m)\u001b[0m\u001b[0;34m\u001b[0m\u001b[0;34m\u001b[0m\u001b[0m\n\u001b[0m\u001b[1;32m    180\u001b[0m \u001b[0;34m\u001b[0m\u001b[0m\n\u001b[1;32m    181\u001b[0m     \u001b[0;32mdef\u001b[0m \u001b[0mbackward\u001b[0m\u001b[0;34m(\u001b[0m\u001b[0mself\u001b[0m\u001b[0;34m,\u001b[0m \u001b[0mgradient\u001b[0m\u001b[0;34m=\u001b[0m\u001b[0;32mNone\u001b[0m\u001b[0;34m,\u001b[0m \u001b[0mretain_graph\u001b[0m\u001b[0;34m=\u001b[0m\u001b[0;32mNone\u001b[0m\u001b[0;34m,\u001b[0m \u001b[0mcreate_graph\u001b[0m\u001b[0;34m=\u001b[0m\u001b[0;32mFalse\u001b[0m\u001b[0;34m)\u001b[0m\u001b[0;34m:\u001b[0m\u001b[0;34m\u001b[0m\u001b[0;34m\u001b[0m\u001b[0m\n",
      "\u001b[0;32m~/miniconda3/envs/finanzas/lib/python3.8/site-packages/torch/_tensor_str.py\u001b[0m in \u001b[0;36m_str\u001b[0;34m(self)\u001b[0m\n\u001b[1;32m    370\u001b[0m \u001b[0;32mdef\u001b[0m \u001b[0m_str\u001b[0m\u001b[0;34m(\u001b[0m\u001b[0mself\u001b[0m\u001b[0;34m)\u001b[0m\u001b[0;34m:\u001b[0m\u001b[0;34m\u001b[0m\u001b[0;34m\u001b[0m\u001b[0m\n\u001b[1;32m    371\u001b[0m     \u001b[0;32mwith\u001b[0m \u001b[0mtorch\u001b[0m\u001b[0;34m.\u001b[0m\u001b[0mno_grad\u001b[0m\u001b[0;34m(\u001b[0m\u001b[0;34m)\u001b[0m\u001b[0;34m:\u001b[0m\u001b[0;34m\u001b[0m\u001b[0;34m\u001b[0m\u001b[0m\n\u001b[0;32m--> 372\u001b[0;31m         \u001b[0;32mreturn\u001b[0m \u001b[0m_str_intern\u001b[0m\u001b[0;34m(\u001b[0m\u001b[0mself\u001b[0m\u001b[0;34m)\u001b[0m\u001b[0;34m\u001b[0m\u001b[0;34m\u001b[0m\u001b[0m\n\u001b[0m",
      "\u001b[0;32m~/miniconda3/envs/finanzas/lib/python3.8/site-packages/torch/_tensor_str.py\u001b[0m in \u001b[0;36m_str_intern\u001b[0;34m(self)\u001b[0m\n\u001b[1;32m    350\u001b[0m                     \u001b[0mtensor_str\u001b[0m \u001b[0;34m=\u001b[0m \u001b[0m_tensor_str\u001b[0m\u001b[0;34m(\u001b[0m\u001b[0mself\u001b[0m\u001b[0;34m.\u001b[0m\u001b[0mto_dense\u001b[0m\u001b[0;34m(\u001b[0m\u001b[0;34m)\u001b[0m\u001b[0;34m,\u001b[0m \u001b[0mindent\u001b[0m\u001b[0;34m)\u001b[0m\u001b[0;34m\u001b[0m\u001b[0;34m\u001b[0m\u001b[0m\n\u001b[1;32m    351\u001b[0m                 \u001b[0;32melse\u001b[0m\u001b[0;34m:\u001b[0m\u001b[0;34m\u001b[0m\u001b[0;34m\u001b[0m\u001b[0m\n\u001b[0;32m--> 352\u001b[0;31m                     \u001b[0mtensor_str\u001b[0m \u001b[0;34m=\u001b[0m \u001b[0m_tensor_str\u001b[0m\u001b[0;34m(\u001b[0m\u001b[0mself\u001b[0m\u001b[0;34m,\u001b[0m \u001b[0mindent\u001b[0m\u001b[0;34m)\u001b[0m\u001b[0;34m\u001b[0m\u001b[0;34m\u001b[0m\u001b[0m\n\u001b[0m\u001b[1;32m    353\u001b[0m \u001b[0;34m\u001b[0m\u001b[0m\n\u001b[1;32m    354\u001b[0m     \u001b[0;32mif\u001b[0m \u001b[0mself\u001b[0m\u001b[0;34m.\u001b[0m\u001b[0mlayout\u001b[0m \u001b[0;34m!=\u001b[0m \u001b[0mtorch\u001b[0m\u001b[0;34m.\u001b[0m\u001b[0mstrided\u001b[0m\u001b[0;34m:\u001b[0m\u001b[0;34m\u001b[0m\u001b[0;34m\u001b[0m\u001b[0m\n",
      "\u001b[0;32m~/miniconda3/envs/finanzas/lib/python3.8/site-packages/torch/_tensor_str.py\u001b[0m in \u001b[0;36m_tensor_str\u001b[0;34m(self, indent)\u001b[0m\n\u001b[1;32m    239\u001b[0m         \u001b[0;32mreturn\u001b[0m \u001b[0m_tensor_str_with_formatter\u001b[0m\u001b[0;34m(\u001b[0m\u001b[0mself\u001b[0m\u001b[0;34m,\u001b[0m \u001b[0mindent\u001b[0m\u001b[0;34m,\u001b[0m \u001b[0msummarize\u001b[0m\u001b[0;34m,\u001b[0m \u001b[0mreal_formatter\u001b[0m\u001b[0;34m,\u001b[0m \u001b[0mimag_formatter\u001b[0m\u001b[0;34m)\u001b[0m\u001b[0;34m\u001b[0m\u001b[0;34m\u001b[0m\u001b[0m\n\u001b[1;32m    240\u001b[0m     \u001b[0;32melse\u001b[0m\u001b[0;34m:\u001b[0m\u001b[0;34m\u001b[0m\u001b[0;34m\u001b[0m\u001b[0m\n\u001b[0;32m--> 241\u001b[0;31m         \u001b[0mformatter\u001b[0m \u001b[0;34m=\u001b[0m \u001b[0m_Formatter\u001b[0m\u001b[0;34m(\u001b[0m\u001b[0mget_summarized_data\u001b[0m\u001b[0;34m(\u001b[0m\u001b[0mself\u001b[0m\u001b[0;34m)\u001b[0m \u001b[0;32mif\u001b[0m \u001b[0msummarize\u001b[0m \u001b[0;32melse\u001b[0m \u001b[0mself\u001b[0m\u001b[0;34m)\u001b[0m\u001b[0;34m\u001b[0m\u001b[0;34m\u001b[0m\u001b[0m\n\u001b[0m\u001b[1;32m    242\u001b[0m         \u001b[0;32mreturn\u001b[0m \u001b[0m_tensor_str_with_formatter\u001b[0m\u001b[0;34m(\u001b[0m\u001b[0mself\u001b[0m\u001b[0;34m,\u001b[0m \u001b[0mindent\u001b[0m\u001b[0;34m,\u001b[0m \u001b[0msummarize\u001b[0m\u001b[0;34m,\u001b[0m \u001b[0mformatter\u001b[0m\u001b[0;34m)\u001b[0m\u001b[0;34m\u001b[0m\u001b[0;34m\u001b[0m\u001b[0m\n\u001b[1;32m    243\u001b[0m \u001b[0;34m\u001b[0m\u001b[0m\n",
      "\u001b[0;32m~/miniconda3/envs/finanzas/lib/python3.8/site-packages/torch/_tensor_str.py\u001b[0m in \u001b[0;36m__init__\u001b[0;34m(self, tensor)\u001b[0m\n\u001b[1;32m     87\u001b[0m \u001b[0;34m\u001b[0m\u001b[0m\n\u001b[1;32m     88\u001b[0m         \u001b[0;32melse\u001b[0m\u001b[0;34m:\u001b[0m\u001b[0;34m\u001b[0m\u001b[0;34m\u001b[0m\u001b[0m\n\u001b[0;32m---> 89\u001b[0;31m             \u001b[0mnonzero_finite_vals\u001b[0m \u001b[0;34m=\u001b[0m \u001b[0mtorch\u001b[0m\u001b[0;34m.\u001b[0m\u001b[0mmasked_select\u001b[0m\u001b[0;34m(\u001b[0m\u001b[0mtensor_view\u001b[0m\u001b[0;34m,\u001b[0m \u001b[0mtorch\u001b[0m\u001b[0;34m.\u001b[0m\u001b[0misfinite\u001b[0m\u001b[0;34m(\u001b[0m\u001b[0mtensor_view\u001b[0m\u001b[0;34m)\u001b[0m \u001b[0;34m&\u001b[0m \u001b[0mtensor_view\u001b[0m\u001b[0;34m.\u001b[0m\u001b[0mne\u001b[0m\u001b[0;34m(\u001b[0m\u001b[0;36m0\u001b[0m\u001b[0;34m)\u001b[0m\u001b[0;34m)\u001b[0m\u001b[0;34m\u001b[0m\u001b[0;34m\u001b[0m\u001b[0m\n\u001b[0m\u001b[1;32m     90\u001b[0m \u001b[0;34m\u001b[0m\u001b[0m\n\u001b[1;32m     91\u001b[0m             \u001b[0;32mif\u001b[0m \u001b[0mnonzero_finite_vals\u001b[0m\u001b[0;34m.\u001b[0m\u001b[0mnumel\u001b[0m\u001b[0;34m(\u001b[0m\u001b[0;34m)\u001b[0m \u001b[0;34m==\u001b[0m \u001b[0;36m0\u001b[0m\u001b[0;34m:\u001b[0m\u001b[0;34m\u001b[0m\u001b[0;34m\u001b[0m\u001b[0m\n",
      "\u001b[0;31mRuntimeError\u001b[0m: CUDA error: unspecified launch failure"
     ]
    }
   ],
   "source": [
    "X_train_t"
   ]
  },
  {
   "cell_type": "markdown",
   "id": "acquired-oxford",
   "metadata": {},
   "source": [
    "# Modelo perceptron"
   ]
  },
  {
   "cell_type": "code",
   "execution_count": 16,
   "id": "later-alias",
   "metadata": {},
   "outputs": [],
   "source": [
    "class Perceptron(nn.Module):\n",
    "    def __init__(self, input_dim):\n",
    "        super().__init__()\n",
    "        t_ventana, n_vars = input_dim\n",
    "        self.entrada = nn.Linear(t_ventana*n_vars, 1)\n",
    "        \n",
    "    def forward(self, x):\n",
    "        x = self.entrada(x)\n",
    "        return x.flatten()"
   ]
  },
  {
   "cell_type": "code",
   "execution_count": 30,
   "id": "closing-testing",
   "metadata": {},
   "outputs": [
    {
     "data": {
      "text/plain": [
       "False"
      ]
     },
     "execution_count": 30,
     "metadata": {},
     "output_type": "execute_result"
    }
   ],
   "source": [
    "y_pred.shape == y_train_t.shape"
   ]
  },
  {
   "cell_type": "code",
   "execution_count": null,
   "id": "occasional-stanford",
   "metadata": {},
   "outputs": [],
   "source": [
    "y_pred.shap"
   ]
  },
  {
   "cell_type": "code",
   "execution_count": 40,
   "id": "rolled-pickup",
   "metadata": {},
   "outputs": [
    {
     "data": {
      "text/plain": [
       "torch.Size([2])"
      ]
     },
     "execution_count": 40,
     "metadata": {},
     "output_type": "execute_result"
    }
   ],
   "source": [
    "y_test_t.shape"
   ]
  },
  {
   "cell_type": "code",
   "execution_count": 42,
   "id": "given-malawi",
   "metadata": {},
   "outputs": [
    {
     "data": {
      "text/plain": [
       "(12,)"
      ]
     },
     "execution_count": 42,
     "metadata": {},
     "output_type": "execute_result"
    }
   ],
   "source": [
    "y_test.shape"
   ]
  },
  {
   "cell_type": "code",
   "execution_count": 39,
   "id": "another-lyric",
   "metadata": {},
   "outputs": [
    {
     "name": "stdout",
     "output_type": "stream",
     "text": [
      "Inicia entrenamiento\n",
      "Termina el entrenamiento\n",
      "CPU times: user 36.7 s, sys: 854 ms, total: 37.5 s\n",
      "Wall time: 37.3 s\n"
     ]
    },
    {
     "data": {
      "text/plain": [
       "<matplotlib.legend.Legend at 0x7f22945c0550>"
      ]
     },
     "execution_count": 39,
     "metadata": {},
     "output_type": "execute_result"
    },
    {
     "data": {
      "image/png": "[encoded data removed]",
      "text/plain": [
       "<Figure size 1440x720 with 2 Axes>"
      ]
     },
     "metadata": {},
     "output_type": "display_data"
    }
   ],
   "source": [
    "%%time\n",
    "\n",
    "input_dim = (t_ventana, n_components)\n",
    "\n",
    "perceptron = Perceptron(input_dim)\n",
    "perceptron.to(dev)\n",
    "\n",
    "loss_function = nn.MSELoss()\n",
    "optimizer = optim.Adagrad(perceptron.parameters())\n",
    "\n",
    "epochs = 40000\n",
    "mse_train = []\n",
    "mse_test = []\n",
    "\n",
    "r2_train = []\n",
    "r2_test = []\n",
    "\n",
    "print(\"Inicia entrenamiento\")\n",
    "for epoch in range(epochs):\n",
    "    \n",
    "    perceptron.zero_grad()\n",
    "    # Training\n",
    "    y_pred = perceptron(X_train_t).to(dev)\n",
    "        \n",
    "    loss = loss_function(y_pred, y_train_t)\n",
    "    \n",
    "    mse_train.append(loss)\n",
    "    r2_train.append( calcular_r2(y_pred, y_train_t ) )\n",
    "    \n",
    "    loss.backward()\n",
    "    optimizer.step()\n",
    "    \n",
    "    # Validation\n",
    "    y_pred = perceptron(X_test_t).to(dev)\n",
    "    loss = loss_function(y_pred, y_test_t)\n",
    "    mse_test.append(loss)\n",
    "    r2_test.append( calcular_r2(y_pred, y_test_t ) )\n",
    "\n",
    "print(\"Termina el entrenamiento\")\n",
    "\n",
    "fig, ax = plt.subplots(ncols=2, figsize=(20,10))\n",
    "ax[0].plot(mse_train, label=\"train\", color=\"blue\")\n",
    "ax[0].plot(mse_test, label=\"test\", color=\"red\")\n",
    "ax[0].set_title(\"Mean Squared Error\")\n",
    "ax[0].legend()\n",
    "\n",
    "\n",
    "ax[1].plot(r2_train, label=\"train\", color=\"blue\")\n",
    "ax[1].plot(r2_test, label=\"test\", color=\"red\")\n",
    "ax[1].set_title(\"$R^2$\")\n",
    "#ax[1].set_ylim(0,1)\n",
    "ax[1].hlines(0, xmin=0, xmax=epochs, ls=\"--\", alpha=0.3, color=\"black\")\n",
    "ax[1].legend()"
   ]
  },
  {
   "cell_type": "code",
   "execution_count": 33,
   "id": "radio-horse",
   "metadata": {},
   "outputs": [
    {
     "data": {
      "text/plain": [
       "torch.Size([2])"
      ]
     },
     "execution_count": 33,
     "metadata": {},
     "output_type": "execute_result"
    }
   ],
   "source": [
    "y_pred.shape"
   ]
  },
  {
   "cell_type": "markdown",
   "id": "eligible-method",
   "metadata": {},
   "source": [
    "# Modelo MLP"
   ]
  },
  {
   "cell_type": "code",
   "execution_count": 205,
   "id": "stuck-glossary",
   "metadata": {},
   "outputs": [],
   "source": [
    "class MLP(nn.Module):\n",
    "    def __init__(self, input_dim, hidden_units):\n",
    "        super().__init__()\n",
    "        t_ventana, n_vars = input_dim\n",
    "        self.entrada = nn.Linear(t_ventana*n_vars, hidden_units)\n",
    "        self.relu = nn.ReLU()\n",
    "        self.salida = nn.Linear(hidden_units, 1)\n",
    "        \n",
    "    def forward(self, x):\n",
    "        x = self.relu(self.entrada(x ))\n",
    "        x = self.salida(x)\n",
    "        return x.flatten()"
   ]
  },
  {
   "cell_type": "code",
   "execution_count": 214,
   "id": "empirical-adapter",
   "metadata": {},
   "outputs": [
    {
     "name": "stdout",
     "output_type": "stream",
     "text": [
      "Inicia\n",
      "Termina el entrenamiento\n",
      "CPU times: user 425 ms, sys: 3.42 ms, total: 428 ms\n",
      "Wall time: 426 ms\n"
     ]
    },
    {
     "data": {
      "text/plain": [
       "<matplotlib.legend.Legend at 0x7fe0ca09d220>"
      ]
     },
     "execution_count": 214,
     "metadata": {},
     "output_type": "execute_result"
    },
    {
     "data": {
      "image/png": "[encoded data removed]",
      "text/plain": [
       "<Figure size 1440x720 with 2 Axes>"
      ]
     },
     "metadata": {},
     "output_type": "display_data"
    }
   ],
   "source": [
    "%%time\n",
    "hidden_units = 512\n",
    "\n",
    "input_dim = (t_ventana, n_components)\n",
    "\n",
    "red = MLP(input_dim, hidden_units)\n",
    "red.to(dev)\n",
    "\n",
    "loss_function = nn.MSELoss()\n",
    "optimizer = optim.Adagrad(red.parameters())\n",
    "\n",
    "epochs = 287\n",
    "mse_train = []\n",
    "mse_test = []\n",
    "\n",
    "r2_train = []\n",
    "r2_test = []\n",
    "\n",
    "print(\"Inicia\")\n",
    "for epoch in range(epochs):\n",
    "    \n",
    "    red.zero_grad()\n",
    "    y_pred = red(X_train_t).to(dev)\n",
    "    \n",
    "    loss = loss_function(y_pred, y_train_t)\n",
    "    mse_train.append(loss)\n",
    "    r2_train.append( calcular_r2(y_pred, y_train_t ) )\n",
    "    loss.backward()\n",
    "    optimizer.step()\n",
    "    \n",
    "    # Validate\n",
    "    y_pred = red(X_test_t).to(dev)\n",
    "    loss = loss_function(y_pred, y_test_t)\n",
    "    mse_test.append(loss)\n",
    "    r2_test.append( calcular_r2(y_pred, y_test_t ) )\n",
    "\n",
    "print(\"Termina el entrenamiento\")\n",
    "\n",
    "fig, ax = plt.subplots(ncols=2, figsize=(20,10))\n",
    "ax[0].plot(mse_train, label=\"train\", color=\"blue\")\n",
    "ax[0].plot(mse_test, label=\"test\", color=\"red\")\n",
    "ax[0].set_title(\"Mean Squared Error\")\n",
    "ax[0].legend()\n",
    "\n",
    "\n",
    "ax[1].plot(r2_train, label=\"train\", color=\"blue\")\n",
    "ax[1].plot(r2_test, label=\"test\", color=\"red\")\n",
    "ax[1].set_title(\"$R^2$\")\n",
    "ax[1].set_ylim(0,1)\n",
    "ax[1].legend()"
   ]
  },
  {
   "cell_type": "code",
   "execution_count": null,
   "id": "affiliated-guyana",
   "metadata": {},
   "outputs": [],
   "source": []
  }
 ],
 "metadata": {
  "kernelspec": {
   "display_name": "Python 3",
   "language": "python",
   "name": "python3"
  },
  "language_info": {
   "codemirror_mode": {
    "name": "ipython",
    "version": 3
   },
   "file_extension": ".py",
   "mimetype": "text/x-python",
   "name": "python",
   "nbconvert_exporter": "python",
   "pygments_lexer": "ipython3",
   "version": "3.8.5"
  }
 },
 "nbformat": 4,
 "nbformat_minor": 5
}
